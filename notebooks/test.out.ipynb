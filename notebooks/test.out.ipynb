{
 "cells": [
  {
   "cell_type": "markdown",
   "metadata": {},
   "source": [
    "# \n",
    "\n",
    "# test write from mobile\n",
    "\n",
    "hello 1 2 3\n",
    "\n",
    "inserting photos might not be as simple"
   ],
   "id": "51d9e401-9747-4b55-ac76-b291c3fc94c6"
  }
 ],
 "nbformat": 4,
 "nbformat_minor": 5,
 "metadata": {}
}
